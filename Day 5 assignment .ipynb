{
 "cells": [
  {
   "cell_type": "markdown",
   "metadata": {},
   "source": [
    "# Day 5 Assignment \n"
   ]
  },
  {
   "cell_type": "markdown",
   "metadata": {},
   "source": [
    "Question 1 : Write a Python program to find the first 20 non-even prime natural numbers."
   ]
  },
  {
   "cell_type": "code",
   "execution_count": 7,
   "metadata": {},
   "outputs": [
    {
     "name": "stdout",
     "output_type": "stream",
     "text": [
      "3 5 7 9 11 13 15 17 19 21 23 25 27 29 31 33 35 37 39 41 "
     ]
    }
   ],
   "source": [
    "def prime(num):\n",
    "    for i in range(2,num):\n",
    "        if ((num%i)==0):\n",
    "            return False\n",
    "            break \n",
    "        \n",
    "        return True\n",
    "    \n",
    "count = 0 \n",
    "for j in range(3,200):\n",
    "    if(prime(j)==True):\n",
    "        print(j,end =\" \")\n",
    "        count = count + 1 \n",
    "    if(count==20):\n",
    "        break "
   ]
  },
  {
   "cell_type": "markdown",
   "metadata": {},
   "source": [
    "Question 2 : Write a Python program to implement 15 functions of string.\n"
   ]
  },
  {
   "cell_type": "code",
   "execution_count": 27,
   "metadata": {},
   "outputs": [
    {
     "data": {
      "text/plain": [
       "'red*green*blue'"
      ]
     },
     "execution_count": 27,
     "metadata": {},
     "output_type": "execute_result"
    }
   ],
   "source": [
    "#len() = it returns the lenth of the string \n",
    "a ='book'\n",
    "len(a) \n",
    "\n",
    "#str = onverts any data type into a string\n",
    "str(2+3j)\n",
    "\n",
    "#lower() and upper() \n",
    "a = 'BOOK'\n",
    "a.lower()\n",
    "\n",
    "a = 'book'\n",
    "a.upper()\n",
    "\n",
    "#strip() = Removes the white space \n",
    "a = \"    Book   \"\n",
    "a.strip()\n",
    "\n",
    "#isdigit() = Returns True if all characters in a string are digits\n",
    "a = \"B00K\"\n",
    "a.isdigit()\n",
    "\n",
    "#isalpha() = Returns True if all characters in a string are characters from an alphabet\n",
    "a = \"book\"\n",
    "a.isalpha()\n",
    "\n",
    "#isspace() = Returns True if all characters in a string are spaces.\n",
    "a = \"        \"\n",
    "a.isspace()\n",
    "\n",
    "#startswith() = Returns True is the string it is appliedon begins with the string in the argument.\n",
    "a = \"understand\"\n",
    "a.startswith(\"un\")\n",
    "\n",
    "#endswith() = Returns True if the string it is applied on ends with the string in the argument.\n",
    "a = \"understand\"\n",
    "a.endswith(\"nd\")\n",
    "\n",
    "#find() = It takes an argument and searches for it in the string on which it is applied. \n",
    "a = \"it is my book\"\n",
    "a.find(\"is\")\n",
    "\n",
    "#replace() = Replaces characters with the required ones \n",
    "a = \"bahaha\"\n",
    "a.replace('haha','nana')\n",
    "\n",
    "#split() = The string is then split around every occurrence of the argument in the string.\n",
    "a = \"it.is my book\"\n",
    "a.split('.')\n",
    "\n",
    "#join() = It takes a list as an argument and joins the elements\n",
    "a = \"*\"\n",
    "a.join(['red','green','blue'])"
   ]
  },
  {
   "cell_type": "markdown",
   "metadata": {},
   "source": [
    "Question 3 : Write a Python program to check if the given string is a Palindrome or Anagram or None of them. Display the message accordingly to the user.\n"
   ]
  },
  {
   "cell_type": "code",
   "execution_count": 6,
   "metadata": {},
   "outputs": [
    {
     "name": "stdout",
     "output_type": "stream",
     "text": [
      "enter a string : Karan \n",
      "enter a string : ranka\n",
      "string is neither an anagram nor palindrom\n"
     ]
    }
   ],
   "source": [
    "a = input(\"enter a string : \")\n",
    "b = input(\"enter a string : \")\n",
    "\n",
    "if (b[::1]==a):\n",
    "    print(\"string is a palindrome\")\n",
    "elif(sorted(b)==sorted(a)):\n",
    "    print(\"string is an anagram\")\n",
    "else:\n",
    "    print(\"string is neither an anagram nor palindrom\") "
   ]
  },
  {
   "cell_type": "markdown",
   "metadata": {},
   "source": [
    "Question 4 : Write a Python's user defined function that removes all the additional characters from the string and converts it finally to lower case using built-in lower(). eg: If the string is \"Dr. Darshan Ingle @AI-ML Trainer\", then the output be \"drdarshaningleaimltrainer\"."
   ]
  },
  {
   "cell_type": "code",
   "execution_count": 8,
   "metadata": {},
   "outputs": [
    {
     "name": "stdout",
     "output_type": "stream",
     "text": [
      "Enter stringDr. Darshan Ingle @ AI - ML Trainer \n",
      "drdarshaningleaimltrainer\n"
     ]
    }
   ],
   "source": [
    "string = input(\"Enter string\")\n",
    "alphanumeric = \"\"\n",
    "\n",
    "for i in string:\n",
    "    if i.isalnum():\n",
    "        alphanumeric = alphanumeric+i\n",
    "alphanumeric=alphanumeric.lower()\n",
    "print(alphanumeric)"
   ]
  }
 ],
 "metadata": {
  "kernelspec": {
   "display_name": "Python 3",
   "language": "python",
   "name": "python3"
  },
  "language_info": {
   "codemirror_mode": {
    "name": "ipython",
    "version": 3
   },
   "file_extension": ".py",
   "mimetype": "text/x-python",
   "name": "python",
   "nbconvert_exporter": "python",
   "pygments_lexer": "ipython3",
   "version": "3.7.6"
  }
 },
 "nbformat": 4,
 "nbformat_minor": 4
}
