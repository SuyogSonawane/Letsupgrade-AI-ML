{
 "cells": [
  {
   "cell_type": "markdown",
   "metadata": {},
   "source": [
    "# Assignment Day 3\n"
   ]
  },
  {
   "cell_type": "markdown",
   "metadata": {},
   "source": [
    "Question 1 : Write a program to subtract two complex numbers in Python.\n"
   ]
  },
  {
   "cell_type": "code",
   "execution_count": 1,
   "metadata": {},
   "outputs": [
    {
     "name": "stdout",
     "output_type": "stream",
     "text": [
      "5\n"
     ]
    }
   ],
   "source": [
    "a = 10 \n",
    "b = 5\n",
    "c = (a-b)\n",
    "print(c)"
   ]
  },
  {
   "cell_type": "markdown",
   "metadata": {},
   "source": [
    "Question 2 : Write a program to find the fourth root of a number."
   ]
  },
  {
   "cell_type": "code",
   "execution_count": 18,
   "metadata": {},
   "outputs": [
    {
     "data": {
      "text/plain": [
       "3.0"
      ]
     },
     "execution_count": 18,
     "metadata": {},
     "output_type": "execute_result"
    }
   ],
   "source": [
    "81**(1/4)\n",
    "# by using 1/n, we get the root of the desired number. "
   ]
  },
  {
   "cell_type": "markdown",
   "metadata": {},
   "source": [
    "Question 3 : Write a program to swap two numbers in Python with the help of a temporary variable."
   ]
  },
  {
   "cell_type": "code",
   "execution_count": 20,
   "metadata": {},
   "outputs": [
    {
     "name": "stdout",
     "output_type": "stream",
     "text": [
      "a =  20\n",
      "b =  10\n"
     ]
    }
   ],
   "source": [
    "a = 10 \n",
    "b = 20 \n",
    "\n",
    "a,b = b,a \n",
    "\n",
    "print(\"a = \",a)\n",
    "print(\"b = \",b)  "
   ]
  },
  {
   "cell_type": "markdown",
   "metadata": {},
   "source": [
    "Question 4 : Write a program to swap two numbers in Python without using a temporary variable.\n"
   ]
  },
  {
   "cell_type": "code",
   "execution_count": 22,
   "metadata": {},
   "outputs": [
    {
     "name": "stdout",
     "output_type": "stream",
     "text": [
      "after swaping a is 10\n",
      "after swaping b is 5\n"
     ]
    }
   ],
   "source": [
    "a = 5\n",
    "b = 10\n",
    "\n",
    "a = a*b #here a becomes 50 \n",
    "\n",
    "b = a//b #here b becomes 5\n",
    "a = a//b #here a becomes 10\n",
    "\n",
    "print(\"after swaping a is\",a)\n",
    "print(\"after swaping b is\",b) "
   ]
  },
  {
   "cell_type": "markdown",
   "metadata": {},
   "source": [
    "Question 5 : Write a program to convert fahrenheit to kelvin and celsius both."
   ]
  },
  {
   "cell_type": "code",
   "execution_count": 39,
   "metadata": {},
   "outputs": [
    {
     "name": "stdout",
     "output_type": "stream",
     "text": [
      "Enter temperature in celsius: 20\n",
      "Temperature in fahrenheit : 68.0\n",
      "Temperature in kelvin : 293.15\n"
     ]
    }
   ],
   "source": [
    "#Fahrenheit = 1.8 * Celsius + 32\n",
    "#Kelvin = 273.15 + Celsius\n",
    "\n",
    "celsius = float(input('Enter temperature in celsius: '))\n",
    "\n",
    "fahrenheit = 1.8 * celsius + 32\n",
    "kelvin = 273.15 + celsius\n",
    "\n",
    "print(\"Temperature in fahrenheit :\",fahrenheit)\n",
    "print(\"Temperature in kelvin :\",kelvin) "
   ]
  },
  {
   "cell_type": "markdown",
   "metadata": {},
   "source": [
    "Question 6 : Write a program to demonstrate all the available data types in Python. \n",
    "             Hint: Use type() function.\n",
    "            "
   ]
  },
  {
   "cell_type": "code",
   "execution_count": 51,
   "metadata": {},
   "outputs": [
    {
     "name": "stdout",
     "output_type": "stream",
     "text": [
      "2 is a <class 'int'>\n",
      "2.5 is a <class 'float'>\n",
      "(2+5j) is a <class 'complex'>\n",
      "this is string\n",
      "list data type looks like this -  [1, 2, 3, 4, 5]\n",
      "this is tuple : (1, 2, 3, 4)\n",
      "this is tuple : ('hello', 1, 2, 3, 'go')\n"
     ]
    }
   ],
   "source": [
    "a = 2\n",
    "print(a,\"is a\",type(a))\n",
    "\n",
    "a = 2.5\n",
    "print(a,\"is a\",type(a)) \n",
    "\n",
    "a = 2+5j\n",
    "print(a,\"is a\",type(a))\n",
    "\n",
    "a = \"this is string\"\n",
    "print(a)\n",
    "\n",
    "a = [1,2,3,4,5]\n",
    "print(\"list data type looks like this - \",a)\n",
    "\n",
    "#tuple having only integer type of data.\n",
    "a=(1,2,3,4)\n",
    "print(\"this is tuple :\",a)\n",
    "\n",
    "#tuple having multiple type of data.\n",
    "b=(\"hello\", 1,2,3,\"go\")\n",
    "print(\"this is tuple :\",b) "
   ]
  },
  {
   "cell_type": "markdown",
   "metadata": {},
   "source": [
    "Question 7 : Create a Markdown cell in jupyter and list the steps discussed in the session by Dr. Darshan Ingle sir to create Github profile and upload Githubs Assignment link.\n",
    "\n",
    "Answers - \n",
    "\n",
    "Step 1 - Open Github \n",
    "Step 2 - Sign up with your email id. \n",
    "Step 3 - fill put the necessary details. \n",
    "\n",
    "Congratutional your Github Profil is ready. \n"
   ]
  },
  {
   "cell_type": "code",
   "execution_count": null,
   "metadata": {},
   "outputs": [],
   "source": []
  }
 ],
 "metadata": {
  "kernelspec": {
   "display_name": "Python 3",
   "language": "python",
   "name": "python3"
  },
  "language_info": {
   "codemirror_mode": {
    "name": "ipython",
    "version": 3
   },
   "file_extension": ".py",
   "mimetype": "text/x-python",
   "name": "python",
   "nbconvert_exporter": "python",
   "pygments_lexer": "ipython3",
   "version": "3.7.6"
  }
 },
 "nbformat": 4,
 "nbformat_minor": 4
}
